{
 "cells": [
  {
   "cell_type": "code",
   "execution_count": 1,
   "metadata": {
    "collapsed": true,
    "ExecuteTime": {
     "start_time": "2023-04-06T14:35:25.936122Z",
     "end_time": "2023-04-06T14:35:34.211642Z"
    }
   },
   "outputs": [
    {
     "name": "stderr",
     "output_type": "stream",
     "text": [
      "Matplotlib created a temporary config/cache directory at /tmp/matplotlib-nxqv17cr because the default path (/afs/ihep.ac.cn/users/m/miaoyu/.cache/matplotlib) is not a writable directory; it is highly recommended to set the MPLCONFIGDIR environment variable to a writable directory, in particular to speed up the import of Matplotlib and to better support multiprocessing.\n"
     ]
    }
   ],
   "source": [
    "import fitter as fitter\n",
    "\n",
    "from channel_analyser import channel\n",
    "\n",
    "import numpy as np\n",
    "import matplotlib.pyplot as plt\n",
    "plt.style.use(\"science\")"
   ]
  },
  {
   "cell_type": "code",
   "execution_count": 2,
   "outputs": [
    {
     "name": "stdout",
     "output_type": "stream",
     "text": [
      "\n",
      " ========= Load eES 1D PDF ========= \n",
      "\n",
      "/junofs/users/miaoyu/supernova/simulation/C++/jobs/Garching82703_PDF_NO_10kpc_eES_5.00MeV_SuperK.root\n",
      "/junofs/users/miaoyu/supernova/simulation/C++/jobs/Garching82703_PDF_IO_10kpc_eES_5.00MeV_SuperK.root\n",
      "\n",
      " ========= Load IBD 1D PDF ========= \n",
      "\n",
      "/junofs/users/miaoyu/supernova/simulation/C++/jobs/Garching82703_PDF_NO_10kpc_IBD_5.00MeV_SuperK.root\n",
      "/junofs/users/miaoyu/supernova/simulation/C++/jobs/Garching82703_PDF_IO_10kpc_IBD_5.00MeV_SuperK.root\n"
     ]
    }
   ],
   "source": [
    "## Channel configuration:\n",
    "\n",
    "model = \"Garching\"\n",
    "modelNo = 82703\n",
    "dist = 10\n",
    "\n",
    "channels = {}\n",
    "channels[\"eES\"] = channel(\"eES\", \"NO\", \"Garching\", 82703, 5.0, fitTmin=-0.02, fitTmax=0.02, dist=dist, exp=\"SuperK\")\n",
    "channels[\"IBD\"] = channel(\"IBD\", \"NO\", \"Garching\", 82703, 5.0, fitTmin=-0.02, fitTmax=0.02, dist=dist, exp=\"SuperK\")\n",
    "\n",
    "scale = 100 / dist**2\n",
    "\n",
    "for cha in channels.values():\n",
    "    cha.setScale(scale)\n",
    "    # set pdf file names:\n",
    "    cha.setNOPdfFilePath(f\"/junofs/users/miaoyu/supernova/simulation/C++/jobs/{model}{modelNo}_PDF_NO_10kpc_{cha.name}_{cha.Ethr:.2f}MeV_SuperK.root\")\n",
    "    cha.setIOPdfFilePath(f\"/junofs/users/miaoyu/supernova/simulation/C++/jobs/{model}{modelNo}_PDF_IO_10kpc_{cha.name}_{cha.Ethr:.2f}MeV_SuperK.root\")\n",
    "\n",
    "    cha._load_pdf()\n"
   ],
   "metadata": {
    "collapsed": false,
    "ExecuteTime": {
     "start_time": "2023-04-06T14:35:51.620983Z",
     "end_time": "2023-04-06T14:35:51.670213Z"
    }
   }
  },
  {
   "cell_type": "code",
   "execution_count": 43,
   "outputs": [],
   "source": [
    "from importlib import reload\n",
    "reload(fitter)\n",
    "\n",
    "MO = \"IO\"\n",
    "dist = 10\n",
    "scale = 100 / dist**2\n",
    "for cha in channels.values():\n",
    "    cha.setScale(scale)\n",
    "\n",
    "# coarse scanning\n",
    "dt_arr = np.arange(-0.01, 0.011, 0.001)\n",
    "dchi2_arr = fitter.scanning_asimov1D_combined(dt_arr, channels[\"eES\"], channels[\"IBD\"], MO)\n",
    "Tbest, locMin, _ = fitter.find_locMin(dt_arr, dchi2_arr)\n",
    "dchi2_arr_sep = fitter.scanning_asimov1D_separate(dt_arr, channels.values(), MO)\n",
    "Tbest_sep, locMin_sep, _ = fitter.find_locMin(dt_arr, dchi2_arr_sep)\n",
    "# fine scanning\n",
    "dt_arr = fitter.generate_fine_dtarr(Tbest)\n",
    "dchi2_arr = fitter.scanning_asimov1D_combined(dt_arr, channels[\"eES\"], channels[\"IBD\"], MO)\n",
    "Tbest, locMin, a, b, c = fitter.parabola_fit(dt_arr, dchi2_arr)\n",
    "dt_arr_sep = fitter.generate_fine_dtarr(Tbest_sep)\n",
    "dchi2_arr_sep = fitter.scanning_asimov1D_separate(dt_arr_sep, channels.values(), MO)\n",
    "Tbest_sep, locMin_sep, a_sep, b_sep, c_sep = fitter.parabola_fit(dt_arr_sep, dchi2_arr_sep)\n",
    "\n",
    "write_chi2 = False\n",
    "if write_chi2:\n",
    "    outfile = f\"../results/Garching82703_variedDist_SuperK_{MO}_eESIBD_MOSensAsimov_CombSep.csv\"\n",
    "    with open(outfile, \"a+\") as f:\n",
    "        f.write(f\"{dist}, {Tbest}, {locMin}, {Tbest_sep}, {locMin_sep}\")\n",
    "        f.write(\"\\n\")\n",
    "\n",
    "plot_chi2profile = True\n",
    "if plot_chi2profile:\n",
    "    fig, ax = plt.subplots(figsize=(8, 6))\n",
    "    ax.plot(dt_arr, dchi2_arr, \"o-\", lw=2.5, label=\"eES, IBD combined\")\n",
    "    ax.plot(Tbest, locMin, \"*\", ms=10, color=\"red\")\n",
    "    x = np.arange(Tbest - 0.001, Tbest + 0.001, 0.0001)\n",
    "    y = np.polyval([a, b, c], x)\n",
    "    ax.plot(x, y, \":\", lw=2.5)\n",
    "\n",
    "    ax.plot(dt_arr_sep, dchi2_arr_sep, \"X-\", lw=2.5, label=\"eES, IBD separated\")\n",
    "    ax.plot(Tbest_sep, locMin_sep, \"*\", ms=10, color=\"red\")\n",
    "    x = np.arange(Tbest_sep - 0.001, Tbest_sep + 0.001, 0.0001)\n",
    "    y = np.polyval([a_sep, b_sep, c_sep], x)\n",
    "    ax.plot(x, y, \":\", lw=2.5)\n",
    "\n",
    "    ax.set_xlabel(r\"$\\Delta t$ [s]\", fontsize=18)\n",
    "    ax.set_ylabel(r\"$\\Delta\\chi^2$\", fontsize=18)\n",
    "    ax.tick_params(axis=\"both\", labelsize=16)\n",
    "    ax.grid(True)\n",
    "    ax.legend(prop={\"size\":15}, frameon=True)\n",
    "    plt.tight_layout()\n",
    "    plt.savefig(f\"../plots/Garching82703_10kpc_{MO}_HyperK_AsimovChi2Profile.pdf\")"
   ],
   "metadata": {
    "collapsed": false,
    "ExecuteTime": {
     "start_time": "2023-04-06T15:47:07.305682Z",
     "end_time": "2023-04-06T15:47:24.879753Z"
    }
   }
  },
  {
   "cell_type": "code",
   "execution_count": 32,
   "outputs": [],
   "source": [],
   "metadata": {
    "collapsed": false,
    "ExecuteTime": {
     "start_time": "2023-04-06T11:41:54.327744Z",
     "end_time": "2023-04-06T11:41:54.365913Z"
    }
   }
  }
 ],
 "metadata": {
  "kernelspec": {
   "display_name": "Python 3",
   "language": "python",
   "name": "python3"
  },
  "language_info": {
   "codemirror_mode": {
    "name": "ipython",
    "version": 2
   },
   "file_extension": ".py",
   "mimetype": "text/x-python",
   "name": "python",
   "nbconvert_exporter": "python",
   "pygments_lexer": "ipython2",
   "version": "2.7.6"
  }
 },
 "nbformat": 4,
 "nbformat_minor": 0
}
