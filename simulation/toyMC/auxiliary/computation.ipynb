{
 "cells": [
  {
   "cell_type": "code",
   "execution_count": 1,
   "metadata": {},
   "outputs": [],
   "source": [
    "import numpy as np\n",
    "from channel_analyser import channel\n",
    "import timeit"
   ]
  },
  {
   "cell_type": "code",
   "execution_count": 2,
   "metadata": {},
   "outputs": [
    {
     "name": "stdout",
     "output_type": "stream",
     "text": [
      "/junofs/users/miaoyu/supernova/simulation/C++/PDFs/1D/Garching82703_PDF_NO_10kpc_IBD_0.15MeV_newshortPDF.root\n",
      "/junofs/users/miaoyu/supernova/simulation/C++/PDFs/1D/Garching82703_PDF_IO_10kpc_IBD_0.15MeV_newshortPDF.root\n",
      "--------------------------------------------------------------\n",
      "Load binned datafile of channel IBD from ->\n",
      "/afs/ihep.ac.cn/users/m/miaoyu/junofs/supernova/simulation/toyMC/scale1_poisson/Garching82703_IBD_binneddata_NO_10kpc_thr0.15MeV_Tmin-20msTmax20ms_start0end10000_binning.root\n",
      "--------------------------------------------------------------\n",
      "Total loaded event number = 1000 from Event 0 to 1000.\n"
     ]
    }
   ],
   "source": [
    "cha0 = channel(\"IBD\", \"NO\", \"Garching\", 82703, 0.15, fitTmin=-20, fitTmax=20)\n",
    "\n",
    "cha0.setDataFilePath(f\"/afs/ihep.ac.cn/users/m/miaoyu/junofs/supernova/simulation/toyMC/scale1_poisson/Garching82703_IBD_binneddata_NO_10kpc_thr0.15MeV_Tmin-20msTmax20ms_start0end10000_binning.root\")\n",
    "cha0.setNevtPerFile(100000)\n",
    "cha0.setStartEvtId(0)\n",
    "cha0.setEndEvtId(1000)\n",
    "\n",
    "cha0._load_pdf()\n",
    "cha0._load_data_binned()"
   ]
  },
  {
   "cell_type": "code",
   "execution_count": 5,
   "metadata": {},
   "outputs": [
    {
     "name": "stdout",
     "output_type": "stream",
     "text": [
      "/junofs/users/miaoyu/supernova/simulation/C++/Data/IBD/150keV/Garching82703_IBD_data_NO_10kpc_thr0.15MeV_Tmin10msTmax50ms_merger.root\n",
      "Statistics of channel IBD is 117.\n",
      "Total loaded event number = 1000 from Event 0 to 1000.\n"
     ]
    },
    {
     "ename": "TypeError",
     "evalue": "to_rectilinear argument must be iterable",
     "output_type": "error",
     "traceback": [
      "\u001b[0;31m---------------------------------------------------------------------------\u001b[0m",
      "\u001b[0;31mTypeError\u001b[0m                                 Traceback (most recent call last)",
      "\u001b[1;32m/afs/ihep.ac.cn/users/m/miaoyu/junofs/supernova/simulation/toyMC/computation.ipynb Cell 3\u001b[0m in \u001b[0;36m<cell line: 6>\u001b[0;34m()\u001b[0m\n\u001b[1;32m      <a href='vscode-notebook-cell://ssh-remote%2Blxslc7.ihep.ac.cn/afs/ihep.ac.cn/users/m/miaoyu/junofs/supernova/simulation/toyMC/computation.ipynb#W2sdnNjb2RlLXJlbW90ZQ%3D%3D?line=3'>4</a>\u001b[0m cha1\u001b[39m.\u001b[39msetStartEvtId(\u001b[39m0\u001b[39m)\n\u001b[1;32m      <a href='vscode-notebook-cell://ssh-remote%2Blxslc7.ihep.ac.cn/afs/ihep.ac.cn/users/m/miaoyu/junofs/supernova/simulation/toyMC/computation.ipynb#W2sdnNjb2RlLXJlbW90ZQ%3D%3D?line=4'>5</a>\u001b[0m cha1\u001b[39m.\u001b[39msetEndEvtId(\u001b[39m1000\u001b[39m)\n\u001b[0;32m----> <a href='vscode-notebook-cell://ssh-remote%2Blxslc7.ihep.ac.cn/afs/ihep.ac.cn/users/m/miaoyu/junofs/supernova/simulation/toyMC/computation.ipynb#W2sdnNjb2RlLXJlbW90ZQ%3D%3D?line=5'>6</a>\u001b[0m cha1\u001b[39m.\u001b[39;49m_load_data()\n\u001b[1;32m      <a href='vscode-notebook-cell://ssh-remote%2Blxslc7.ihep.ac.cn/afs/ihep.ac.cn/users/m/miaoyu/junofs/supernova/simulation/toyMC/computation.ipynb#W2sdnNjb2RlLXJlbW90ZQ%3D%3D?line=6'>7</a>\u001b[0m cha1\u001b[39m.\u001b[39m_load_pdf()\n",
      "File \u001b[0;32m/junofs/users/miaoyu/supernova/simulation/toyMC/channel_analyser.py:142\u001b[0m, in \u001b[0;36mchannel._load_data\u001b[0;34m(self)\u001b[0m\n\u001b[1;32m    140\u001b[0m         evtNum \u001b[39m=\u001b[39m \u001b[39mself\u001b[39m\u001b[39m.\u001b[39mendEvt \u001b[39m-\u001b[39m \u001b[39mself\u001b[39m\u001b[39m.\u001b[39mstartEvt\n\u001b[1;32m    141\u001b[0m         \u001b[39mprint\u001b[39m(\u001b[39mf\u001b[39m\u001b[39m\"\u001b[39m\u001b[39mTotal loaded event number = \u001b[39m\u001b[39m{\u001b[39;00mevtNum\u001b[39m}\u001b[39;00m\u001b[39m from Event \u001b[39m\u001b[39m{\u001b[39;00m\u001b[39mself\u001b[39m\u001b[39m.\u001b[39mstartEvt\u001b[39m}\u001b[39;00m\u001b[39m to \u001b[39m\u001b[39m{\u001b[39;00m\u001b[39mself\u001b[39m\u001b[39m.\u001b[39mendEvt\u001b[39m}\u001b[39;00m\u001b[39m.\u001b[39m\u001b[39m\"\u001b[39m)\n\u001b[0;32m--> 142\u001b[0m         nuTime \u001b[39m=\u001b[39m np\u001b[39m.\u001b[39;49mreshape(nuTime, (evtNum, nuPerEvent))\n\u001b[1;32m    143\u001b[0m         nuTime \u001b[39m=\u001b[39m np\u001b[39m.\u001b[39marray(nuTime)\n\u001b[1;32m    144\u001b[0m \u001b[39mexcept\u001b[39;00m \u001b[39mFileNotFoundError\u001b[39;00m:\n",
      "File \u001b[0;32m<__array_function__ internals>:180\u001b[0m, in \u001b[0;36mreshape\u001b[0;34m(*args, **kwargs)\u001b[0m\n",
      "File \u001b[0;32m/junofs/users/miaoyu/miniconda/lib/python3.9/site-packages/awkward/highlevel.py:1434\u001b[0m, in \u001b[0;36mArray.__array_function__\u001b[0;34m(self, func, types, args, kwargs)\u001b[0m\n\u001b[1;32m   1417\u001b[0m \u001b[39mdef\u001b[39;00m \u001b[39m__array_function__\u001b[39m(\u001b[39mself\u001b[39m, func, types, args, kwargs):\n\u001b[1;32m   1418\u001b[0m     \u001b[39m\"\"\"\u001b[39;00m\n\u001b[1;32m   1419\u001b[0m \u001b[39m    Intercepts attempts to pass this Array to those NumPy functions other\u001b[39;00m\n\u001b[1;32m   1420\u001b[0m \u001b[39m    than universal functions that have an Awkward equivalent.\u001b[39;00m\n\u001b[0;32m   (...)\u001b[0m\n\u001b[1;32m   1432\u001b[0m \u001b[39m    See also #__array_ufunc__.\u001b[39;00m\n\u001b[1;32m   1433\u001b[0m \u001b[39m    \"\"\"\u001b[39;00m\n\u001b[0;32m-> 1434\u001b[0m     \u001b[39mreturn\u001b[39;00m ak\u001b[39m.\u001b[39;49m_connect\u001b[39m.\u001b[39;49m_numpy\u001b[39m.\u001b[39;49marray_function(func, types, args, kwargs)\n",
      "File \u001b[0;32m/junofs/users/miaoyu/miniconda/lib/python3.9/site-packages/awkward/_connect/_numpy.py:34\u001b[0m, in \u001b[0;36marray_function\u001b[0;34m(func, types, args, kwargs)\u001b[0m\n\u001b[1;32m     32\u001b[0m function \u001b[39m=\u001b[39m implemented\u001b[39m.\u001b[39mget(func)\n\u001b[1;32m     33\u001b[0m \u001b[39mif\u001b[39;00m function \u001b[39mis\u001b[39;00m \u001b[39mNone\u001b[39;00m:\n\u001b[0;32m---> 34\u001b[0m     args \u001b[39m=\u001b[39m \u001b[39mtuple\u001b[39;49m(_to_rectilinear(x) \u001b[39mfor\u001b[39;49;00m x \u001b[39min\u001b[39;49;00m args)\n\u001b[1;32m     35\u001b[0m     kwargs \u001b[39m=\u001b[39m {k: _to_rectilinear(v) \u001b[39mfor\u001b[39;00m k, v \u001b[39min\u001b[39;00m kwargs\u001b[39m.\u001b[39mitems()}\n\u001b[1;32m     36\u001b[0m     out \u001b[39m=\u001b[39m func(\u001b[39m*\u001b[39margs, \u001b[39m*\u001b[39m\u001b[39m*\u001b[39mkwargs)\n",
      "File \u001b[0;32m/junofs/users/miaoyu/miniconda/lib/python3.9/site-packages/awkward/_connect/_numpy.py:34\u001b[0m, in \u001b[0;36m<genexpr>\u001b[0;34m(.0)\u001b[0m\n\u001b[1;32m     32\u001b[0m function \u001b[39m=\u001b[39m implemented\u001b[39m.\u001b[39mget(func)\n\u001b[1;32m     33\u001b[0m \u001b[39mif\u001b[39;00m function \u001b[39mis\u001b[39;00m \u001b[39mNone\u001b[39;00m:\n\u001b[0;32m---> 34\u001b[0m     args \u001b[39m=\u001b[39m \u001b[39mtuple\u001b[39m(_to_rectilinear(x) \u001b[39mfor\u001b[39;00m x \u001b[39min\u001b[39;00m args)\n\u001b[1;32m     35\u001b[0m     kwargs \u001b[39m=\u001b[39m {k: _to_rectilinear(v) \u001b[39mfor\u001b[39;00m k, v \u001b[39min\u001b[39;00m kwargs\u001b[39m.\u001b[39mitems()}\n\u001b[1;32m     36\u001b[0m     out \u001b[39m=\u001b[39m func(\u001b[39m*\u001b[39margs, \u001b[39m*\u001b[39m\u001b[39m*\u001b[39mkwargs)\n",
      "File \u001b[0;32m/junofs/users/miaoyu/miniconda/lib/python3.9/site-packages/awkward/_connect/_numpy.py:26\u001b[0m, in \u001b[0;36m_to_rectilinear\u001b[0;34m(arg)\u001b[0m\n\u001b[1;32m     24\u001b[0m \u001b[39mif\u001b[39;00m \u001b[39misinstance\u001b[39m(arg, Iterable):\n\u001b[1;32m     25\u001b[0m     nplike \u001b[39m=\u001b[39m ak\u001b[39m.\u001b[39mnplike\u001b[39m.\u001b[39mof(arg)\n\u001b[0;32m---> 26\u001b[0m     \u001b[39mreturn\u001b[39;00m nplike\u001b[39m.\u001b[39;49mto_rectilinear(arg, allow_missing\u001b[39m=\u001b[39;49m\u001b[39mFalse\u001b[39;49;00m)\n\u001b[1;32m     27\u001b[0m \u001b[39melse\u001b[39;00m:\n\u001b[1;32m     28\u001b[0m     \u001b[39mreturn\u001b[39;00m arg\n",
      "File \u001b[0;32m/junofs/users/miaoyu/miniconda/lib/python3.9/site-packages/awkward/nplike.py:446\u001b[0m, in \u001b[0;36mNumpy.to_rectilinear\u001b[0;34m(self, array, *args, **kwargs)\u001b[0m\n\u001b[1;32m    443\u001b[0m     \u001b[39mreturn\u001b[39;00m ak\u001b[39m.\u001b[39moperations\u001b[39m.\u001b[39mconvert\u001b[39m.\u001b[39mto_numpy(array, \u001b[39m*\u001b[39margs, \u001b[39m*\u001b[39m\u001b[39m*\u001b[39mkwargs)\n\u001b[1;32m    445\u001b[0m \u001b[39melif\u001b[39;00m \u001b[39misinstance\u001b[39m(array, Iterable):\n\u001b[0;32m--> 446\u001b[0m     \u001b[39mreturn\u001b[39;00m [\u001b[39mself\u001b[39m\u001b[39m.\u001b[39mto_rectilinear(x, \u001b[39m*\u001b[39margs, \u001b[39m*\u001b[39m\u001b[39m*\u001b[39mkwargs) \u001b[39mfor\u001b[39;00m x \u001b[39min\u001b[39;00m array]\n\u001b[1;32m    448\u001b[0m \u001b[39melse\u001b[39;00m:\n\u001b[1;32m    449\u001b[0m     \u001b[39mraise\u001b[39;00m \u001b[39mTypeError\u001b[39;00m(\u001b[39m\"\u001b[39m\u001b[39mto_rectilinear argument must be iterable\u001b[39m\u001b[39m\"\u001b[39m)\n",
      "File \u001b[0;32m/junofs/users/miaoyu/miniconda/lib/python3.9/site-packages/awkward/nplike.py:446\u001b[0m, in \u001b[0;36m<listcomp>\u001b[0;34m(.0)\u001b[0m\n\u001b[1;32m    443\u001b[0m     \u001b[39mreturn\u001b[39;00m ak\u001b[39m.\u001b[39moperations\u001b[39m.\u001b[39mconvert\u001b[39m.\u001b[39mto_numpy(array, \u001b[39m*\u001b[39margs, \u001b[39m*\u001b[39m\u001b[39m*\u001b[39mkwargs)\n\u001b[1;32m    445\u001b[0m \u001b[39melif\u001b[39;00m \u001b[39misinstance\u001b[39m(array, Iterable):\n\u001b[0;32m--> 446\u001b[0m     \u001b[39mreturn\u001b[39;00m [\u001b[39mself\u001b[39;49m\u001b[39m.\u001b[39;49mto_rectilinear(x, \u001b[39m*\u001b[39;49margs, \u001b[39m*\u001b[39;49m\u001b[39m*\u001b[39;49mkwargs) \u001b[39mfor\u001b[39;00m x \u001b[39min\u001b[39;00m array]\n\u001b[1;32m    448\u001b[0m \u001b[39melse\u001b[39;00m:\n\u001b[1;32m    449\u001b[0m     \u001b[39mraise\u001b[39;00m \u001b[39mTypeError\u001b[39;00m(\u001b[39m\"\u001b[39m\u001b[39mto_rectilinear argument must be iterable\u001b[39m\u001b[39m\"\u001b[39m)\n",
      "File \u001b[0;32m/junofs/users/miaoyu/miniconda/lib/python3.9/site-packages/awkward/nplike.py:449\u001b[0m, in \u001b[0;36mNumpy.to_rectilinear\u001b[0;34m(self, array, *args, **kwargs)\u001b[0m\n\u001b[1;32m    446\u001b[0m     \u001b[39mreturn\u001b[39;00m [\u001b[39mself\u001b[39m\u001b[39m.\u001b[39mto_rectilinear(x, \u001b[39m*\u001b[39margs, \u001b[39m*\u001b[39m\u001b[39m*\u001b[39mkwargs) \u001b[39mfor\u001b[39;00m x \u001b[39min\u001b[39;00m array]\n\u001b[1;32m    448\u001b[0m \u001b[39melse\u001b[39;00m:\n\u001b[0;32m--> 449\u001b[0m     \u001b[39mraise\u001b[39;00m \u001b[39mTypeError\u001b[39;00m(\u001b[39m\"\u001b[39m\u001b[39mto_rectilinear argument must be iterable\u001b[39m\u001b[39m\"\u001b[39m)\n",
      "\u001b[0;31mTypeError\u001b[0m: to_rectilinear argument must be iterable"
     ]
    }
   ],
   "source": [
    "cha1 = channel(\"IBD\", \"NO\", \"Garching\", 82703, 0.15, fitTmin=10, fitTmax=50)\n",
    "cha1.setDataFilePath(\"/junofs/users/miaoyu/supernova/simulation/C++/Data/IBD/150keV/Garching82703_IBD_data_NO_10kpc_thr0.15MeV_Tmin10msTmax50ms_merger.root\")\n",
    "cha1.setNevtPerFile(100000)\n",
    "cha1.setStartEvtId(0)\n",
    "cha1.setEndEvtId(1000)\n",
    "cha1._load_data()\n",
    "cha1._load_pdf()"
   ]
  },
  {
   "cell_type": "code",
   "execution_count": null,
   "metadata": {},
   "outputs": [],
   "source": []
  }
 ],
 "metadata": {
  "kernelspec": {
   "display_name": "base",
   "language": "python",
   "name": "python3"
  },
  "language_info": {
   "codemirror_mode": {
    "name": "ipython",
    "version": 3
   },
   "file_extension": ".py",
   "mimetype": "text/x-python",
   "name": "python",
   "nbconvert_exporter": "python",
   "pygments_lexer": "ipython3",
   "version": "3.9.12"
  },
  "orig_nbformat": 4,
  "vscode": {
   "interpreter": {
    "hash": "755e5db896cbec0e63c48abae6adc6ba4844b15e187f849a58c590f00a8544e7"
   }
  }
 },
 "nbformat": 4,
 "nbformat_minor": 2
}
